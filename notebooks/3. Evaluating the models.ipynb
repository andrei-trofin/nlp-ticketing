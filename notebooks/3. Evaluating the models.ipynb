{
 "cells": [
  {
   "cell_type": "code",
   "execution_count": 1,
   "id": "c0e47d23",
   "metadata": {},
   "outputs": [],
   "source": [
    "# Import functions from local scripts\n",
    "import sys\n",
    "sys.path.insert(1, './scripts/development')\n",
    "import scripts.development.preprocessing as pre\n",
    "\n",
    "# Import data handling libraries\n",
    "import pandas as pd\n",
    "from scipy.sparse import csr_matrix, hstack\n",
    "\n",
    "# Import metric functions\n",
    "from sklearn.metrics import average_precision_score, classification_report\n",
    "\n",
    "# Import I/O libraries\n",
    "from pickle import load\n",
    "import json"
   ]
  },
  {
   "cell_type": "code",
   "execution_count": 34,
   "id": "d60cf013",
   "metadata": {},
   "outputs": [],
   "source": [
    "# Load both tf-idf vectorizers\n",
    "with open(\"../data/modeling/tfidf_1.pkl\", \"rb\") as tfidf_file:\n",
    "    tfidf_vec_1 = load(tfidf_file)\n",
    "    tfidf_file.close()\n",
    "    \n",
    "with open(\"../data/modeling/tfidf_2.pkl\", \"rb\") as tfidf_file:\n",
    "    tfidf_vec_2 = load(tfidf_file)\n",
    "    tfidf_file.close()"
   ]
  },
  {
   "cell_type": "code",
   "execution_count": 35,
   "id": "979ef3f6",
   "metadata": {},
   "outputs": [],
   "source": [
    "# Load both scalers\n",
    "with open(\"../data/modeling/scaler_1.pkl\", \"rb\") as tfidf_file:\n",
    "    scaler_1 = load(tfidf_file)\n",
    "    tfidf_file.close()\n",
    "    \n",
    "with open(\"../data/modeling/scaler_2.pkl\", \"rb\") as tfidf_file:\n",
    "    scaler_2 = load(tfidf_file)\n",
    "    tfidf_file.close()"
   ]
  },
  {
   "cell_type": "code",
   "execution_count": 36,
   "id": "bd93453e",
   "metadata": {},
   "outputs": [],
   "source": [
    "# Load both models\n",
    "with open(\"../data/modeling/model_1_with_mf.pkl\", \"rb\") as model_file:\n",
    "    model_1 = load(model_file)\n",
    "    model_file.close()\n",
    "    \n",
    "with open(\"../data/modeling/model_2_with_mf.pkl\", \"rb\") as model_file:\n",
    "    model_2 = load(model_file)\n",
    "    model_file.close()"
   ]
  },
  {
   "cell_type": "code",
   "execution_count": 20,
   "id": "ac959dd7",
   "metadata": {},
   "outputs": [],
   "source": [
    "# Load token dictionary\n",
    "with open(\"../data/token_dictionary.json\", \"r\") as token_dict_file:\n",
    "    token_dictionary = json.load(token_dict_file)\n",
    "    token_dict_file.close()"
   ]
  },
  {
   "cell_type": "code",
   "execution_count": 37,
   "id": "a44cccd5",
   "metadata": {},
   "outputs": [],
   "source": [
    "# Hand define a test set to try the models on\n",
    "X_test = pd.Series([\n",
    "    \"Encomendei meus sapatos 3 semanas atrás. Eu estou sentindo falta deles. Devolva-os o mais rápido possível\", \n",
    "    \"donde esta mi pedido señor\", \n",
    "    \"Where is my order?\",\n",
    "    \"Hi. I went to your site and I have seen that my command _TRACKING_NUMBER_ is not coming. I need it. Contact me at aaa.23@yahoo.com please\",\n",
    "    \"tell me about my command __ORDER_NUMBER__\", \n",
    "    \"hi i want to register a coupon\",\n",
    "    \"Hello I have ordered __COMPANY__ shoes (__PRODUCT_NAMES__) didn'tget a confirmation.\",\n",
    "    \"Good day sir i got __PRODUCT_NAME__ on your site but not delivered until now\",\n",
    "    \"Hi regarding my order __ORDER_NUMBER__ I just wanted to know if I can change __PRODUCT_NAME__ with __PRODUCT_NAME__\"],\n",
    "    name='text')\n",
    "\n",
    "y_test = [1, 1, 1, 1, 1, 0, 1, 1, 0]"
   ]
  },
  {
   "cell_type": "code",
   "execution_count": 38,
   "id": "bee7acdf",
   "metadata": {},
   "outputs": [
    {
     "name": "stdout",
     "output_type": "stream",
     "text": [
      "CPU times: total: 93.8 ms\n",
      "Wall time: 351 ms\n"
     ]
    },
    {
     "data": {
      "text/html": [
       "<div>\n",
       "<style scoped>\n",
       "    .dataframe tbody tr th:only-of-type {\n",
       "        vertical-align: middle;\n",
       "    }\n",
       "\n",
       "    .dataframe tbody tr th {\n",
       "        vertical-align: top;\n",
       "    }\n",
       "\n",
       "    .dataframe thead th {\n",
       "        text-align: right;\n",
       "    }\n",
       "</style>\n",
       "<table border=\"1\" class=\"dataframe\">\n",
       "  <thead>\n",
       "    <tr style=\"text-align: right;\">\n",
       "      <th></th>\n",
       "      <th>name_count</th>\n",
       "      <th>product_count</th>\n",
       "      <th>order_count</th>\n",
       "      <th>tracking_number_count</th>\n",
       "      <th>email_count</th>\n",
       "      <th>company_name_count</th>\n",
       "    </tr>\n",
       "  </thead>\n",
       "  <tbody>\n",
       "    <tr>\n",
       "      <th>0</th>\n",
       "      <td>0</td>\n",
       "      <td>0</td>\n",
       "      <td>0</td>\n",
       "      <td>0</td>\n",
       "      <td>0</td>\n",
       "      <td>0</td>\n",
       "    </tr>\n",
       "    <tr>\n",
       "      <th>1</th>\n",
       "      <td>0</td>\n",
       "      <td>0</td>\n",
       "      <td>0</td>\n",
       "      <td>0</td>\n",
       "      <td>0</td>\n",
       "      <td>0</td>\n",
       "    </tr>\n",
       "    <tr>\n",
       "      <th>2</th>\n",
       "      <td>0</td>\n",
       "      <td>0</td>\n",
       "      <td>0</td>\n",
       "      <td>0</td>\n",
       "      <td>0</td>\n",
       "      <td>0</td>\n",
       "    </tr>\n",
       "    <tr>\n",
       "      <th>3</th>\n",
       "      <td>0</td>\n",
       "      <td>0</td>\n",
       "      <td>0</td>\n",
       "      <td>1</td>\n",
       "      <td>1</td>\n",
       "      <td>0</td>\n",
       "    </tr>\n",
       "    <tr>\n",
       "      <th>4</th>\n",
       "      <td>0</td>\n",
       "      <td>0</td>\n",
       "      <td>1</td>\n",
       "      <td>0</td>\n",
       "      <td>0</td>\n",
       "      <td>0</td>\n",
       "    </tr>\n",
       "    <tr>\n",
       "      <th>5</th>\n",
       "      <td>0</td>\n",
       "      <td>0</td>\n",
       "      <td>0</td>\n",
       "      <td>0</td>\n",
       "      <td>0</td>\n",
       "      <td>0</td>\n",
       "    </tr>\n",
       "    <tr>\n",
       "      <th>6</th>\n",
       "      <td>0</td>\n",
       "      <td>1</td>\n",
       "      <td>0</td>\n",
       "      <td>0</td>\n",
       "      <td>0</td>\n",
       "      <td>1</td>\n",
       "    </tr>\n",
       "    <tr>\n",
       "      <th>7</th>\n",
       "      <td>0</td>\n",
       "      <td>1</td>\n",
       "      <td>0</td>\n",
       "      <td>0</td>\n",
       "      <td>0</td>\n",
       "      <td>0</td>\n",
       "    </tr>\n",
       "    <tr>\n",
       "      <th>8</th>\n",
       "      <td>0</td>\n",
       "      <td>2</td>\n",
       "      <td>1</td>\n",
       "      <td>0</td>\n",
       "      <td>0</td>\n",
       "      <td>0</td>\n",
       "    </tr>\n",
       "  </tbody>\n",
       "</table>\n",
       "</div>"
      ],
      "text/plain": [
       "   name_count  product_count  order_count  tracking_number_count  email_count  \\\n",
       "0           0              0            0                      0            0   \n",
       "1           0              0            0                      0            0   \n",
       "2           0              0            0                      0            0   \n",
       "3           0              0            0                      1            1   \n",
       "4           0              0            1                      0            0   \n",
       "5           0              0            0                      0            0   \n",
       "6           0              1            0                      0            0   \n",
       "7           0              1            0                      0            0   \n",
       "8           0              2            1                      0            0   \n",
       "\n",
       "   company_name_count  \n",
       "0                   0  \n",
       "1                   0  \n",
       "2                   0  \n",
       "3                   0  \n",
       "4                   0  \n",
       "5                   0  \n",
       "6                   1  \n",
       "7                   0  \n",
       "8                   0  "
      ]
     },
     "execution_count": 38,
     "metadata": {},
     "output_type": "execute_result"
    }
   ],
   "source": [
    "%%time\n",
    "# Preprocess text to use it for prediction\n",
    "X_test = X_test.apply(lambda x: pre.translate_to_en(x))\n",
    "X_test = pre.preprocess_text_series(X_test, token_dictionary, True)\n",
    "X_test[['name_count', 'product_count', 'order_count', 'tracking_number_count', 'email_count', 'company_name_count']]"
   ]
  },
  {
   "cell_type": "code",
   "execution_count": 39,
   "id": "9a6832cd",
   "metadata": {},
   "outputs": [
    {
     "name": "stdout",
     "output_type": "stream",
     "text": [
      "CPU times: total: 15.6 ms\n",
      "Wall time: 13 ms\n"
     ]
    }
   ],
   "source": [
    "%%time\n",
    "# Use vectorizers to obtain data we can predict on\n",
    "text = X_test['text']\n",
    "tfidf_text_1 = tfidf_vec_1.transform(text)\n",
    "tfidf_text_2 = tfidf_vec_2.transform(text)\n",
    "\n",
    "m_feats = X_test.drop(columns='text')\n",
    "m_feats_1 = pd.DataFrame(scaler_1.transform(m_feats), index = m_feats.index.values)\n",
    "m_feats_2 = pd.DataFrame(scaler_2.transform(m_feats), index = m_feats.index.values)\n",
    "\n",
    "tfidf_text_1 = hstack((tfidf_text_1, csr_matrix(m_feats_1)))\n",
    "tfidf_text_2 = hstack((tfidf_text_2, csr_matrix(m_feats_2)))"
   ]
  },
  {
   "cell_type": "code",
   "execution_count": 43,
   "id": "49928ead",
   "metadata": {},
   "outputs": [],
   "source": [
    "predicted_1 = model_1.predict(tfidf_text_1)\n",
    "predicted_2 = model_2.predict(tfidf_text_2)"
   ]
  },
  {
   "cell_type": "code",
   "execution_count": 44,
   "id": "016f8cca",
   "metadata": {},
   "outputs": [
    {
     "name": "stdout",
     "output_type": "stream",
     "text": [
      "0.9682539682539683 \n",
      "               precision    recall  f1-score   support\n",
      "\n",
      "           0       0.67      1.00      0.80         2\n",
      "           1       1.00      0.86      0.92         7\n",
      "\n",
      "    accuracy                           0.89         9\n",
      "   macro avg       0.83      0.93      0.86         9\n",
      "weighted avg       0.93      0.89      0.90         9\n",
      "\n"
     ]
    }
   ],
   "source": [
    "# Print average precision-recall AUC and classification report for first model with our dataset\n",
    "print(average_precision_score(y_test, predicted_1), \"\\n\", classification_report(y_test, predicted_1))"
   ]
  },
  {
   "cell_type": "code",
   "execution_count": 45,
   "id": "f8c466b6",
   "metadata": {
    "scrolled": false
   },
   "outputs": [
    {
     "name": "stdout",
     "output_type": "stream",
     "text": [
      "0.873015873015873 \n",
      "               precision    recall  f1-score   support\n",
      "\n",
      "           0       0.33      1.00      0.50         2\n",
      "           1       1.00      0.43      0.60         7\n",
      "\n",
      "    accuracy                           0.56         9\n",
      "   macro avg       0.67      0.71      0.55         9\n",
      "weighted avg       0.85      0.56      0.58         9\n",
      "\n"
     ]
    }
   ],
   "source": [
    "# Print average precision-recall AUC and classification report for second model with our dataset\n",
    "print(average_precision_score(y_test, predicted_2), \"\\n\", classification_report(y_test, predicted_2))"
   ]
  },
  {
   "cell_type": "markdown",
   "id": "2ba02dd8",
   "metadata": {},
   "source": [
    "Both models were tested on a small self made dataset and"
   ]
  }
 ],
 "metadata": {
  "kernelspec": {
   "display_name": "Python 3 (ipykernel)",
   "language": "python",
   "name": "python3"
  },
  "language_info": {
   "codemirror_mode": {
    "name": "ipython",
    "version": 3
   },
   "file_extension": ".py",
   "mimetype": "text/x-python",
   "name": "python",
   "nbconvert_exporter": "python",
   "pygments_lexer": "ipython3",
   "version": "3.9.6"
  }
 },
 "nbformat": 4,
 "nbformat_minor": 5
}

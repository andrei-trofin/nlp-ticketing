{
 "cells": [
  {
   "cell_type": "code",
   "execution_count": null,
   "id": "c0e47d23",
   "metadata": {},
   "outputs": [],
   "source": [
    "# Import functions from local scripts\n",
    "import sys\n",
    "sys.path.insert(1, './scripts/development')\n",
    "import scripts.development.preprocessing as pre\n",
    "\n",
    "# Import data handling libraries\n",
    "import pandas as pd\n",
    "from scipy.sparse import csr_matrix, hstack\n",
    "\n",
    "# Import metric functions\n",
    "from sklearn.metrics import average_precision_score, classification_report\n",
    "\n",
    "# Import I/O libraries\n",
    "from pickle import load\n",
    "import json"
   ]
  },
  {
   "cell_type": "code",
   "execution_count": null,
   "id": "d60cf013",
   "metadata": {},
   "outputs": [],
   "source": [
    "# Load both tf-idf vectorizers\n",
    "with open(\"../data/modeling/tfidf_1.pkl\", \"rb\") as tfidf_file:\n",
    "    tfidf_vec_1 = load(tfidf_file)\n",
    "    tfidf_file.close()\n",
    "    \n",
    "with open(\"../data/modeling/tfidf_2.pkl\", \"rb\") as tfidf_file:\n",
    "    tfidf_vec_2 = load(tfidf_file)\n",
    "    tfidf_file.close()"
   ]
  },
  {
   "cell_type": "code",
   "execution_count": null,
   "id": "bd93453e",
   "metadata": {},
   "outputs": [],
   "source": [
    "# Load both models\n",
    "with open(\"../data/modeling/model_1_wo_mf.pkl\", \"rb\") as model_file:\n",
    "    model_1 = load(model_file)\n",
    "    model_file.close()\n",
    "    \n",
    "with open(\"../data/modeling/model_2_wo_mf.pkl\", \"rb\") as model_file:\n",
    "    model_2 = load(model_file)\n",
    "    model_file.close()"
   ]
  },
  {
   "cell_type": "code",
   "execution_count": null,
   "id": "ac959dd7",
   "metadata": {},
   "outputs": [],
   "source": [
    "# Load token dictionary and create token list\n",
    "with open(\"../data/token_dictionary.json\", \"r\") as token_dict_file:\n",
    "    token_dictionary = json.load(token_dict_file)\n",
    "    token_dict_file.close()\n",
    "\n",
    "token_list = [token for key, val in token_dictionary.items() for token in val]"
   ]
  },
  {
   "cell_type": "code",
   "execution_count": null,
   "id": "a44cccd5",
   "metadata": {},
   "outputs": [],
   "source": [
    "# Hand define a test set to try the models on\n",
    "X_test = pd.Series([\n",
    "    \"Encomendei meus sapatos 3 semanas atrás. Eu estou sentindo falta deles. Devolva-os o mais rápido possível\", \n",
    "    \"donde esta mi pedido señor\", \n",
    "    \"Where is my order?\",\n",
    "    \"Hi. I went to your site and I have seen that my command _TRACKING_NUMBER_ is not coming. I need it. Contact me at aaa.23@yahoo.com please\",\n",
    "    \"tell me about my command __ORDER_NUMBER__\", \n",
    "    \"hi i want to register a coupon\",\n",
    "    \"Hello I have ordered __COMPANY__ shoes (__PRODUCT_NAMES__) didn'tget a confirmation.\",\n",
    "    \"Good day sir i got __PRODUCT_NAME__ on your site but not delivered until now\",\n",
    "    \"Hi regarding my order __ORDER_NUMBER__ I just wanted to know if I can change __PRODUCT_NAME__ with __PRODUCT_NAME__\"],\n",
    "    name='text')\n",
    "\n",
    "y_test = [1, 1, 1, 1, 1, 0, 1, 1, 0]"
   ]
  },
  {
   "cell_type": "code",
   "execution_count": null,
   "id": "bee7acdf",
   "metadata": {},
   "outputs": [],
   "source": [
    "%%time\n",
    "# Preprocess text to use it for prediction\n",
    "X_test = X_test.apply(lambda x: pre.translate_to_en(x))\n",
    "X_test = pre.preprocess_text_series(X_test, token_dictionary, token_list, False)\n",
    "X_test"
   ]
  },
  {
   "cell_type": "code",
   "execution_count": null,
   "id": "9a6832cd",
   "metadata": {},
   "outputs": [],
   "source": [
    "%%time\n",
    "# Use vectorizers to obtain data we can predict on\n",
    "text = X_test['text']\n",
    "tfidf_text_1 = tfidf_vec_1.transform(text)\n",
    "tfidf_text_2 = tfidf_vec_2.transform(text)"
   ]
  },
  {
   "cell_type": "code",
   "execution_count": null,
   "id": "49928ead",
   "metadata": {},
   "outputs": [],
   "source": [
    "predicted_1 = model_1.predict(tfidf_text_1)\n",
    "predicted_2 = model_2.predict(tfidf_text_2)"
   ]
  },
  {
   "cell_type": "code",
   "execution_count": null,
   "id": "016f8cca",
   "metadata": {},
   "outputs": [],
   "source": [
    "# Print average precision-recall AUC and classification report for first model with our dataset\n",
    "print(average_precision_score(y_test, predicted_1), \"\\n\", classification_report(y_test, predicted_1))"
   ]
  },
  {
   "cell_type": "code",
   "execution_count": null,
   "id": "f8c466b6",
   "metadata": {
    "scrolled": true
   },
   "outputs": [],
   "source": [
    "# Print average precision-recall AUC and classification report for second model with our dataset\n",
    "print(average_precision_score(y_test, predicted_2), \"\\n\", classification_report(y_test, predicted_2))"
   ]
  },
  {
   "cell_type": "code",
   "execution_count": null,
   "id": "775a96ef",
   "metadata": {},
   "outputs": [],
   "source": [
    "ha = token_list.copy()\n",
    "ha"
   ]
  },
  {
   "cell_type": "code",
   "execution_count": null,
   "id": "0d7ca722",
   "metadata": {},
   "outputs": [],
   "source": [
    "sorted(ha, key=len, reverse=True)"
   ]
  },
  {
   "cell_type": "code",
   "execution_count": null,
   "id": "0c9db25c",
   "metadata": {},
   "outputs": [],
   "source": [
    "#TODO check again the modeling process since we changed preprocess function"
   ]
  }
 ],
 "metadata": {
  "kernelspec": {
   "display_name": "Python 3 (ipykernel)",
   "language": "python",
   "name": "python3"
  },
  "language_info": {
   "codemirror_mode": {
    "name": "ipython",
    "version": 3
   },
   "file_extension": ".py",
   "mimetype": "text/x-python",
   "name": "python",
   "nbconvert_exporter": "python",
   "pygments_lexer": "ipython3",
   "version": "3.9.6"
  }
 },
 "nbformat": 4,
 "nbformat_minor": 5
}

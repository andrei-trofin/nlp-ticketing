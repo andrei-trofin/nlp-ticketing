{
 "cells": [
  {
   "cell_type": "code",
   "execution_count": 11,
   "id": "d575900b",
   "metadata": {},
   "outputs": [],
   "source": [
    "# Import functions from local scripts\n",
    "import sys\n",
    "sys.path.insert(1, './scripts/development')\n",
    "import scripts.development.preprocessing as pre\n",
    "\n",
    "# Import data handling libraries\n",
    "import pandas as pd\n",
    "from scipy.sparse import csr_matrix, hstack\n",
    "\n",
    "# Import I/O libraries\n",
    "from pickle import load\n",
    "import json\n",
    "\n",
    "# Import plotting library\n",
    "import matplotlib.pyplot as plt"
   ]
  },
  {
   "cell_type": "code",
   "execution_count": 2,
   "id": "09eac9ba",
   "metadata": {},
   "outputs": [],
   "source": [
    "# Load tf-idf vectorizer\n",
    "with open(\"../data/modeling/tfidf_1.pkl\", \"rb\") as tfidf_file:\n",
    "    tfidf_vec = load(tfidf_file)\n",
    "    tfidf_file.close()\n",
    "    \n",
    "# Load both scaler\n",
    "with open(\"../data/modeling/scaler_1.pkl\", \"rb\") as tfidf_file:\n",
    "    scaler = load(tfidf_file)\n",
    "    tfidf_file.close()\n",
    "    \n",
    "# Load model\n",
    "with open(\"../data/modeling/model_1_with_mf.pkl\", \"rb\") as model_file:\n",
    "    model = load(model_file)\n",
    "    model_file.close()\n",
    "    \n",
    "# Load token dictionary\n",
    "with open(\"../data/token_dictionary.json\", \"r\") as token_dict_file:\n",
    "    token_dictionary = json.load(token_dict_file)\n",
    "    token_dict_file.close()"
   ]
  },
  {
   "cell_type": "code",
   "execution_count": 5,
   "id": "ff403881",
   "metadata": {},
   "outputs": [
    {
     "data": {
      "text/plain": [
       "0    SAMPLE TEXT\n",
       "dtype: object"
      ]
     },
     "execution_count": 5,
     "metadata": {},
     "output_type": "execute_result"
    }
   ],
   "source": [
    "# Text on which prediction is made\n",
    "X = \"SAMPLE TEXT\"\n",
    "X_test = pd.Series([x])\n",
    "X_test"
   ]
  },
  {
   "cell_type": "code",
   "execution_count": 6,
   "id": "0142ab42",
   "metadata": {},
   "outputs": [
    {
     "data": {
      "text/html": [
       "<div>\n",
       "<style scoped>\n",
       "    .dataframe tbody tr th:only-of-type {\n",
       "        vertical-align: middle;\n",
       "    }\n",
       "\n",
       "    .dataframe tbody tr th {\n",
       "        vertical-align: top;\n",
       "    }\n",
       "\n",
       "    .dataframe thead th {\n",
       "        text-align: right;\n",
       "    }\n",
       "</style>\n",
       "<table border=\"1\" class=\"dataframe\">\n",
       "  <thead>\n",
       "    <tr style=\"text-align: right;\">\n",
       "      <th></th>\n",
       "      <th>text</th>\n",
       "      <th>text_length</th>\n",
       "      <th>number_of_words</th>\n",
       "      <th>average_word_length</th>\n",
       "      <th>numeric_counts</th>\n",
       "      <th>reference_number_count</th>\n",
       "      <th>tracking_number_count</th>\n",
       "      <th>invoice_count</th>\n",
       "      <th>product_count</th>\n",
       "      <th>discount_code_count</th>\n",
       "      <th>...</th>\n",
       "      <th>photo_count</th>\n",
       "      <th>other_pi_count</th>\n",
       "      <th>address_count</th>\n",
       "      <th>price_count</th>\n",
       "      <th>name_count</th>\n",
       "      <th>phone_count</th>\n",
       "      <th>email_count</th>\n",
       "      <th>date_count</th>\n",
       "      <th>url_count</th>\n",
       "      <th>stop_word_count</th>\n",
       "    </tr>\n",
       "  </thead>\n",
       "  <tbody>\n",
       "    <tr>\n",
       "      <th>0</th>\n",
       "      <td>sampl text</td>\n",
       "      <td>11</td>\n",
       "      <td>2</td>\n",
       "      <td>5.0</td>\n",
       "      <td>0</td>\n",
       "      <td>0</td>\n",
       "      <td>0</td>\n",
       "      <td>0</td>\n",
       "      <td>0</td>\n",
       "      <td>0</td>\n",
       "      <td>...</td>\n",
       "      <td>0</td>\n",
       "      <td>0</td>\n",
       "      <td>0</td>\n",
       "      <td>0</td>\n",
       "      <td>0</td>\n",
       "      <td>0</td>\n",
       "      <td>0</td>\n",
       "      <td>0</td>\n",
       "      <td>0</td>\n",
       "      <td>0</td>\n",
       "    </tr>\n",
       "  </tbody>\n",
       "</table>\n",
       "<p>1 rows × 23 columns</p>\n",
       "</div>"
      ],
      "text/plain": [
       "         text  text_length  number_of_words  average_word_length  \\\n",
       "0  sampl text           11                2                  5.0   \n",
       "\n",
       "   numeric_counts  reference_number_count  tracking_number_count  \\\n",
       "0               0                       0                      0   \n",
       "\n",
       "   invoice_count  product_count  discount_code_count  ...  photo_count  \\\n",
       "0              0              0                    0  ...            0   \n",
       "\n",
       "   other_pi_count  address_count  price_count  name_count  phone_count  \\\n",
       "0               0              0            0           0            0   \n",
       "\n",
       "   email_count  date_count  url_count  stop_word_count  \n",
       "0            0           0          0                0  \n",
       "\n",
       "[1 rows x 23 columns]"
      ]
     },
     "execution_count": 6,
     "metadata": {},
     "output_type": "execute_result"
    }
   ],
   "source": [
    "# Preprocess text to use it for prediction\n",
    "X_test = X_test.apply(lambda x: pre.translate_to_en(x))\n",
    "X_test = pre.preprocess_text_series(X_test, token_dictionary, True)\n",
    "X_test"
   ]
  },
  {
   "cell_type": "code",
   "execution_count": 7,
   "id": "7386a560",
   "metadata": {},
   "outputs": [],
   "source": [
    "# Use vectorizer and scaler to obtain data we can predict on\n",
    "text = X_test['text']\n",
    "tfidf_text = tfidf_vec.transform(text)\n",
    "\n",
    "m_feats = X_test.drop(columns='text')\n",
    "m_feats = pd.DataFrame(scaler.transform(m_feats), index = m_feats.index.values)\n",
    "\n",
    "tfidf_text = hstack((tfidf_text, csr_matrix(m_feats)))"
   ]
  },
  {
   "cell_type": "code",
   "execution_count": 19,
   "id": "894d2850",
   "metadata": {},
   "outputs": [
    {
     "data": {
      "image/png": "[encoded data removed]",
      "text/plain": [
       "<Figure size 432x288 with 1 Axes>"
      ]
     },
     "metadata": {
      "needs_background": "light"
     },
     "output_type": "display_data"
    }
   ],
   "source": [
    "# Plot the predicted probability for 1 text\n",
    "# Where the red bar represents the probability of negative class and green bar the probability of positive class\n",
    "predicted = model.predict_proba(tfidf_text)\n",
    "fig = plt.bar([0,1], predicted[0], tick_label=['negative_class', 'positive_class'], color=['red', 'green'])"
   ]
  }
 ],
 "metadata": {
  "kernelspec": {
   "display_name": "Python 3 (ipykernel)",
   "language": "python",
   "name": "python3"
  },
  "language_info": {
   "codemirror_mode": {
    "name": "ipython",
    "version": 3
   },
   "file_extension": ".py",
   "mimetype": "text/x-python",
   "name": "python",
   "nbconvert_exporter": "python",
   "pygments_lexer": "ipython3",
   "version": "3.9.6"
  }
 },
 "nbformat": 4,
 "nbformat_minor": 5
}
